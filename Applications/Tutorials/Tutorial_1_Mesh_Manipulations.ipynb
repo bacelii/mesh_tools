{
 "cells": [
  {
   "cell_type": "code",
   "execution_count": 1,
   "id": "04694e19",
   "metadata": {},
   "outputs": [
    {
     "data": {
      "text/plain": [
       "'\\nPurpose: deomonstrate common mesh manipulations that\\naccess the functionality of the CGAL, Meshlab, Open3D\\nand other 3rd party mesh manipulation software in the backend\\n\\nThe majority of mesh manipulation if carried out\\nthrough the trimesh.Trimesh object\\n'"
      ]
     },
     "execution_count": 1,
     "metadata": {},
     "output_type": "execute_result"
    }
   ],
   "source": [
    "\"\"\"\n",
    "Purpose: deomonstrate common mesh manipulations that\n",
    "access the functionality of the CGAL, Meshlab, Open3D\n",
    "and other 3rd party mesh manipulation software in the backend\n",
    "\n",
    "The majority of mesh manipulation if carried out\n",
    "through the trimesh.Trimesh object\n",
    "\"\"\""
   ]
  },
  {
   "cell_type": "code",
   "execution_count": 2,
   "id": "971e7812",
   "metadata": {},
   "outputs": [],
   "source": [
    "%load_ext autoreload\n",
    "%autoreload 2"
   ]
  },
  {
   "cell_type": "code",
   "execution_count": 3,
   "id": "aa230989",
   "metadata": {},
   "outputs": [
    {
     "name": "stderr",
     "output_type": "stream",
     "text": [
      "/usr/local/lib/python3.8/dist-packages/python_jsonschema_objects/__init__.py:113: UserWarning: Schema id not specified. Defaulting to 'self'\n",
      "  warnings.warn(\"Schema id not specified. Defaulting to 'self'\")\n"
     ]
    }
   ],
   "source": [
    "from datasci_tools import ipyvolume_utils as ipvu"
   ]
  },
  {
   "cell_type": "code",
   "execution_count": 4,
   "id": "4068bded",
   "metadata": {},
   "outputs": [],
   "source": [
    "from mesh_tools import trimesh_utils as tu \n",
    "from mesh_tools import skeleton_utils as sk"
   ]
  },
  {
   "cell_type": "markdown",
   "id": "17be4de0",
   "metadata": {},
   "source": [
    "# Load Test Data"
   ]
  },
  {
   "cell_type": "code",
   "execution_count": 5,
   "id": "2bb26c9a",
   "metadata": {},
   "outputs": [
    {
     "name": "stderr",
     "output_type": "stream",
     "text": [
      "/usr/local/lib/python3.8/dist-packages/traittypes/traittypes.py:97: UserWarning: Given trait value dtype \"float64\" does not match required type \"float64\". A coerced copy has been created.\n",
      "  warnings.warn(\n"
     ]
    },
    {
     "data": {
      "application/vnd.jupyter.widget-view+json": {
       "model_id": "128ee54fc8494079b170ac0cb588c7a9",
       "version_major": 2,
       "version_minor": 0
      },
      "text/plain": [
       "Container(figure=Figure(box_center=[0.5, 0.5, 0.5], box_size=[1.0, 1.0, 1.0], camera=PerspectiveCamera(fov=45.…"
      ]
     },
     "metadata": {},
     "output_type": "display_data"
    }
   ],
   "source": [
    "mesh_filepath = \"./elephant.off\"\n",
    "mesh = tu.load_mesh_no_processing(mesh_filepath)\n",
    "ipvu.plot_objects(\n",
    "    mesh,\n",
    "    axis_box_off=False,\n",
    "    flip_y=False,\n",
    ")"
   ]
  },
  {
   "cell_type": "code",
   "execution_count": 6,
   "id": "dd918c64",
   "metadata": {},
   "outputs": [
    {
     "data": {
      "application/vnd.jupyter.widget-view+json": {
       "model_id": "984b9e4594b644159c6270c95da6b2f5",
       "version_major": 2,
       "version_minor": 0
      },
      "text/plain": [
       "Container(figure=Figure(box_center=[0.5, 0.5, 0.5], box_size=[1.0, 1.0, 1.0], camera=PerspectiveCamera(fov=45.…"
      ]
     },
     "metadata": {},
     "output_type": "display_data"
    }
   ],
   "source": [
    "branch_mesh_filepath = \"./neuron_branch.off\"\n",
    "branch_mesh = tu.load_mesh_no_processing(branch_mesh_filepath)\n",
    "ipvu.plot_objects(\n",
    "    branch_mesh,\n",
    "    axis_box_off=False\n",
    ")"
   ]
  },
  {
   "cell_type": "markdown",
   "id": "6c1dfc7f",
   "metadata": {},
   "source": [
    "# -- Utiltiy Functions --"
   ]
  },
  {
   "cell_type": "code",
   "execution_count": 7,
   "id": "9d38aa11",
   "metadata": {},
   "outputs": [],
   "source": [
    "def manifold_watertight_dict(mesh):\n",
    "    return {\n",
    "        \"is watertight\":tu.is_watertight(mesh),\n",
    "        \"is manifold\":tu.is_manifold(mesh),\n",
    "    }"
   ]
  },
  {
   "cell_type": "code",
   "execution_count": 8,
   "id": "f1db5f37",
   "metadata": {},
   "outputs": [],
   "source": [
    "def print_mainfold_watertight_diff(mesh_before,mesh_after,method=None):\n",
    "    if method is not None:\n",
    "        method = f\" {method}\"\n",
    "    print(f\"\\n\\nBefore{method}: {manifold_watertight_dict(branch_mesh)}\")\n",
    "    print(f\"\\nAfter{method}: {manifold_watertight_dict(branch_mesh_reconstructed)}\")"
   ]
  },
  {
   "cell_type": "markdown",
   "id": "50f5c780",
   "metadata": {},
   "source": [
    "# -- Meshlab Backend --"
   ]
  },
  {
   "cell_type": "markdown",
   "id": "19acfd69",
   "metadata": {},
   "source": [
    "## Decimation"
   ]
  },
  {
   "cell_type": "code",
   "execution_count": 9,
   "id": "5292cb96",
   "metadata": {},
   "outputs": [
    {
     "name": "stdout",
     "output_type": "stream",
     "text": [
      "xvfb-run -n 6462 -s \"-screen 0 800x600x24\" meshlabserver $@  -i /neurd_packages/mesh_tools/Applications/Tutorials/temp/neuron_36294.off -o /neurd_packages/mesh_tools/Applications/Tutorials/temp/neuron_36294_decimated.off -s /neurd_packages/mesh_tools/Applications/Tutorials/temp/decimation_meshlab_25189998.mls\n",
      "\n",
      "\n",
      "Size of mesh before decimation: <trimesh.Trimesh(vertices.shape=(2775, 3), faces.shape=(5558, 3), name=`elephant.off`)>\n",
      "Size of mesh after decimation: <trimesh.Trimesh(vertices.shape=(690, 3), faces.shape=(1388, 3), name=`neuron_36294_decimated.off`)>\n"
     ]
    }
   ],
   "source": [
    "mesh_dec = tu.decimate(mesh,0.25)\n",
    "print(f\"\\n\\nSize of mesh before decimation: {mesh}\")\n",
    "print(f\"Size of mesh after decimation: {mesh_dec}\")"
   ]
  },
  {
   "cell_type": "code",
   "execution_count": 10,
   "id": "eea3d403",
   "metadata": {},
   "outputs": [
    {
     "data": {
      "application/vnd.jupyter.widget-view+json": {
       "model_id": "e702ae3fd61b4ce499592c8c535aa71b",
       "version_major": 2,
       "version_minor": 0
      },
      "text/plain": [
       "Container(figure=Figure(box_center=[0.5, 0.5, 0.5], box_size=[1.0, 1.0, 1.0], camera=PerspectiveCamera(fov=45.…"
      ]
     },
     "metadata": {},
     "output_type": "display_data"
    }
   ],
   "source": [
    "ipvu.plot_objects(mesh_dec)"
   ]
  },
  {
   "cell_type": "markdown",
   "id": "98ae700f",
   "metadata": {},
   "source": [
    "## Poisson Surface Reconstruction "
   ]
  },
  {
   "cell_type": "code",
   "execution_count": 11,
   "id": "8d4583e0",
   "metadata": {},
   "outputs": [
    {
     "data": {
      "text/plain": [
       "'\\nAccess to the meshlab poisson surface reconstruction. \\nThis will attempt to create a manifold and watertight mesh \\nusing a shrinkwrapping mehtod on the outside of the current mesh\\n    \\nApplications: \\n1) Turn mesh watertight\\n2) Turn mesh manifold\\n'"
      ]
     },
     "execution_count": 11,
     "metadata": {},
     "output_type": "execute_result"
    }
   ],
   "source": [
    "\"\"\"\n",
    "Access to the meshlab poisson surface reconstruction. \n",
    "This will attempt to create a manifold and watertight mesh \n",
    "using a shrinkwrapping mehtod on the outside of the current mesh\n",
    "    \n",
    "Applications: \n",
    "1) Turn mesh watertight\n",
    "2) Turn mesh manifold\n",
    "\"\"\""
   ]
  },
  {
   "cell_type": "code",
   "execution_count": 12,
   "id": "60c72769",
   "metadata": {
    "scrolled": true
   },
   "outputs": [
    {
     "name": "stdout",
     "output_type": "stream",
     "text": [
      "xvfb-run -n 5649 -s \"-screen 0 800x600x24\" meshlabserver $@  -i /neurd_packages/mesh_tools/Applications/Tutorials/temp/mesh_318.off -o /neurd_packages/mesh_tools/Applications/Tutorials/temp/mesh_318_poisson.off -s /neurd_packages/mesh_tools/Applications/Tutorials/temp/poisson_911224.mls\n",
      "removed temporary input file: /neurd_packages/mesh_tools/Applications/Tutorials/temp/mesh_318.off\n",
      "removed temporary output file: /neurd_packages/mesh_tools/Applications/Tutorials/temp/mesh_318_poisson.off\n",
      "\n",
      "\n",
      "Before poisson surface reconstruction: {'is watertight': False, 'is manifold': False}\n",
      "\n",
      "After poisson surface reconstruction: {'is watertight': True, 'is manifold': True}\n"
     ]
    }
   ],
   "source": [
    "branch_mesh_reconstructed = tu.poisson_surface_reconstruction(branch_mesh)\n",
    "\n",
    "print_mainfold_watertight_diff(\n",
    "    branch_mesh,\n",
    "    branch_mesh_reconstructed,\n",
    "    \"poisson surface reconstruction\"\n",
    ")"
   ]
  },
  {
   "cell_type": "code",
   "execution_count": 13,
   "id": "8511d460",
   "metadata": {},
   "outputs": [
    {
     "data": {
      "application/vnd.jupyter.widget-view+json": {
       "model_id": "8a50cebe91244082a82d846c121fc210",
       "version_major": 2,
       "version_minor": 0
      },
      "text/plain": [
       "Container(figure=Figure(box_center=[0.5, 0.5, 0.5], box_size=[1.0, 1.0, 1.0], camera=PerspectiveCamera(fov=45.…"
      ]
     },
     "metadata": {},
     "output_type": "display_data"
    }
   ],
   "source": [
    "ipvu.plot_objects(\n",
    "    meshes=[branch_mesh,branch_mesh_reconstructed],\n",
    "    meshes_colors=[\"green\",\"red\"],\n",
    ")"
   ]
  },
  {
   "cell_type": "markdown",
   "id": "bd39df8e",
   "metadata": {},
   "source": [
    "## Fill holes"
   ]
  },
  {
   "cell_type": "code",
   "execution_count": 14,
   "id": "9efb4ed0",
   "metadata": {},
   "outputs": [
    {
     "name": "stdout",
     "output_type": "stream",
     "text": [
      "xvfb-run -n 4610 -s \"-screen 0 800x600x24\" meshlabserver $@  -i /neurd_packages/mesh_tools/Applications/Tutorials/temp/neuron_95769.off -o /neurd_packages/mesh_tools/Applications/Tutorials/temp/neuron_95769_fill_holes.off -s /neurd_packages/mesh_tools/Applications/Tutorials/temp/fill_holes_59124.mls\n",
      "removed temporary input file: /neurd_packages/mesh_tools/Applications/Tutorials/temp/neuron_95769.off\n",
      "removed temporary output file: /neurd_packages/mesh_tools/Applications/Tutorials/temp/neuron_95769_fill_holes.off\n",
      "/neurd_packages/mesh_tools/Applications/Tutorials/temp/fill_holes_59124.mls is being deleted....\n",
      "\n",
      "\n",
      "Before meshlab fill holes: {'is watertight': False, 'is manifold': False}\n",
      "\n",
      "After meshlab fill holes: {'is watertight': True, 'is manifold': True}\n"
     ]
    }
   ],
   "source": [
    "branch_mesh_no_holes = tu.fill_holes(branch_mesh)\n",
    "\n",
    "print_mainfold_watertight_diff(\n",
    "    branch_mesh,\n",
    "    branch_mesh_no_holes,\n",
    "    \"meshlab fill holes\"\n",
    ")"
   ]
  },
  {
   "cell_type": "code",
   "execution_count": 15,
   "id": "abb75c08",
   "metadata": {},
   "outputs": [
    {
     "data": {
      "application/vnd.jupyter.widget-view+json": {
       "model_id": "e8eb131d66624be2960c01613f51363c",
       "version_major": 2,
       "version_minor": 0
      },
      "text/plain": [
       "Container(figure=Figure(box_center=[0.5, 0.5, 0.5], box_size=[1.0, 1.0, 1.0], camera=PerspectiveCamera(fov=45.…"
      ]
     },
     "metadata": {},
     "output_type": "display_data"
    }
   ],
   "source": [
    "ipvu.plot_objects(\n",
    "    meshes = [branch_mesh,branch_mesh_no_holes],\n",
    "    meshes_colors=[\"green\",\"red\"],\n",
    ")"
   ]
  },
  {
   "cell_type": "markdown",
   "id": "6b4ca19e",
   "metadata": {},
   "source": [
    "## Mesh Interior"
   ]
  },
  {
   "cell_type": "code",
   "execution_count": 16,
   "id": "26b7aae2",
   "metadata": {},
   "outputs": [
    {
     "data": {
      "text/plain": [
       "'\\nWill attempt and meshes on the inside of the main mesh through ray tracing from an external source\\n\\nNote: For best performance just limit these meshes to larger connected submeshes because there is a \\nhigher false positive rate for smaller submeshes\\n'"
      ]
     },
     "execution_count": 16,
     "metadata": {},
     "output_type": "execute_result"
    }
   ],
   "source": [
    "\"\"\"\n",
    "Will attempt and meshes on the inside of the main mesh through ray tracing from an external source\n",
    "\n",
    "Note: For best performance just limit these meshes to larger connected submeshes because there is a \n",
    "higher false positive rate for smaller submeshes\n",
    "\"\"\""
   ]
  },
  {
   "cell_type": "code",
   "execution_count": 17,
   "id": "99b3bbc5",
   "metadata": {},
   "outputs": [
    {
     "name": "stdout",
     "output_type": "stream",
     "text": [
      "xvfb-run -n 342 -s \"-screen 0 800x600x24\" meshlabserver $@  -i /neurd_packages/mesh_tools/Applications/Tutorials/temp/neuron_35049.off -o /neurd_packages/mesh_tools/Applications/Tutorials/temp/neuron_35049_fill_holes.off -s /neurd_packages/mesh_tools/Applications/Tutorials/temp/fill_holes_651799.mls\n",
      "removed temporary input file: /neurd_packages/mesh_tools/Applications/Tutorials/temp/neuron_35049.off\n",
      "removed temporary output file: /neurd_packages/mesh_tools/Applications/Tutorials/temp/neuron_35049_fill_holes.off\n",
      "/neurd_packages/mesh_tools/Applications/Tutorials/temp/fill_holes_651799.mls is being deleted....\n",
      "xvfb-run -n 5752 -s \"-screen 0 800x600x24\" meshlabserver $@  -i /neurd_packages/mesh_tools/Applications/Tutorials/temp/neuron_16262.off -o /neurd_packages/mesh_tools/Applications/Tutorials/temp/neuron_16262_remove_interior.off -s /neurd_packages/mesh_tools/Applications/Tutorials/temp/remove_interior_314034.mls\n",
      "removed temporary input file: /neurd_packages/mesh_tools/Applications/Tutorials/temp/neuron_16262.off\n",
      "removed temporary output file: /neurd_packages/mesh_tools/Applications/Tutorials/temp/neuron_16262_remove_interior.off\n",
      "/neurd_packages/mesh_tools/Applications/Tutorials/temp/remove_interior_314034.mls is being deleted....\n"
     ]
    },
    {
     "data": {
      "text/plain": [
       "<trimesh.Trimesh(vertices.shape=(14, 3), faces.shape=(16, 3), name=`neuron_16262_remove_interior.off`)>"
      ]
     },
     "execution_count": 17,
     "metadata": {},
     "output_type": "execute_result"
    }
   ],
   "source": [
    "mesh_interior = tu.mesh_interior(branch_mesh)\n",
    "mesh_interior"
   ]
  },
  {
   "cell_type": "code",
   "execution_count": 18,
   "id": "6ecf6088",
   "metadata": {},
   "outputs": [
    {
     "data": {
      "application/vnd.jupyter.widget-view+json": {
       "model_id": "3af2c34e61f14cb087a6990013d1a4f8",
       "version_major": 2,
       "version_minor": 0
      },
      "text/plain": [
       "Container(figure=Figure(box_center=[0.5, 0.5, 0.5], box_size=[1.0, 1.0, 1.0], camera=PerspectiveCamera(fov=45.…"
      ]
     },
     "metadata": {},
     "output_type": "display_data"
    }
   ],
   "source": [
    "ipvu.plot_objects(\n",
    "    branch_mesh,\n",
    "    meshes = [mesh_interior],\n",
    "    meshes_colors=[\"red\"]\n",
    ")"
   ]
  },
  {
   "cell_type": "markdown",
   "id": "d27d078f",
   "metadata": {},
   "source": [
    "# -- Open3d Backend --"
   ]
  },
  {
   "cell_type": "markdown",
   "id": "ea84065c",
   "metadata": {},
   "source": [
    "## Manifold Check"
   ]
  },
  {
   "cell_type": "code",
   "execution_count": 19,
   "id": "c80be810",
   "metadata": {},
   "outputs": [
    {
     "data": {
      "text/plain": [
       "True"
      ]
     },
     "execution_count": 19,
     "metadata": {},
     "output_type": "execute_result"
    }
   ],
   "source": [
    "tu.is_manifold(mesh)"
   ]
  },
  {
   "cell_type": "code",
   "execution_count": 20,
   "id": "900905dc",
   "metadata": {},
   "outputs": [
    {
     "data": {
      "text/plain": [
       "0.04620123472608187"
      ]
     },
     "execution_count": 20,
     "metadata": {},
     "output_type": "execute_result"
    }
   ],
   "source": [
    "tu.mesh_volume_o3d(mesh)"
   ]
  },
  {
   "cell_type": "markdown",
   "id": "a5dc7a63",
   "metadata": {},
   "source": [
    "# -- Cgal Backend --"
   ]
  },
  {
   "cell_type": "markdown",
   "id": "6f798820",
   "metadata": {},
   "source": [
    "## Segmentation"
   ]
  },
  {
   "cell_type": "code",
   "execution_count": 21,
   "id": "c9c94f90",
   "metadata": {},
   "outputs": [
    {
     "name": "stdout",
     "output_type": "stream",
     "text": [
      "\n",
      "Number of segments: 23\n",
      "\n"
     ]
    },
    {
     "data": {
      "application/vnd.jupyter.widget-view+json": {
       "model_id": "e7d96e542e544fcbaf06af2d764a904e",
       "version_major": 2,
       "version_minor": 0
      },
      "text/plain": [
       "  0%|          | 0/23 [00:00<?, ?it/s]"
      ]
     },
     "metadata": {},
     "output_type": "display_data"
    },
    {
     "name": "stdout",
     "output_type": "stream",
     "text": [
      "Initial segmentation with clusters = 5, smoothness = 0.08\n"
     ]
    },
    {
     "data": {
      "application/vnd.jupyter.widget-view+json": {
       "model_id": "1dea841e2d5d4f3ea2f94ef17310e7c1",
       "version_major": 2,
       "version_minor": 0
      },
      "text/plain": [
       "Container(figure=Figure(box_center=[0.5, 0.5, 0.5], box_size=[1.0, 1.0, 1.0], camera=PerspectiveCamera(fov=45.…"
      ]
     },
     "metadata": {},
     "output_type": "display_data"
    },
    {
     "data": {
      "text/plain": [
       "([<trimesh.Trimesh(vertices.shape=(775, 3), faces.shape=(1516, 3), name=`neuron_branch.off`)>,\n",
       "  <trimesh.Trimesh(vertices.shape=(511, 3), faces.shape=(981, 3), name=`neuron_branch.off`)>,\n",
       "  <trimesh.Trimesh(vertices.shape=(421, 3), faces.shape=(791, 3), name=`neuron_branch.off`)>,\n",
       "  <trimesh.Trimesh(vertices.shape=(188, 3), faces.shape=(324, 3), name=`neuron_branch.off`)>,\n",
       "  <trimesh.Trimesh(vertices.shape=(149, 3), faces.shape=(228, 3), name=`neuron_branch.off`)>,\n",
       "  <trimesh.Trimesh(vertices.shape=(67, 3), faces.shape=(129, 3), name=`neuron_branch.off`)>,\n",
       "  <trimesh.Trimesh(vertices.shape=(59, 3), faces.shape=(112, 3), name=`neuron_branch.off`)>,\n",
       "  <trimesh.Trimesh(vertices.shape=(45, 3), faces.shape=(84, 3), name=`neuron_branch.off`)>,\n",
       "  <trimesh.Trimesh(vertices.shape=(44, 3), faces.shape=(83, 3), name=`neuron_branch.off`)>,\n",
       "  <trimesh.Trimesh(vertices.shape=(42, 3), faces.shape=(77, 3), name=`neuron_branch.off`)>,\n",
       "  <trimesh.Trimesh(vertices.shape=(15, 3), faces.shape=(22, 3), name=`neuron_branch.off`)>,\n",
       "  <trimesh.Trimesh(vertices.shape=(14, 3), faces.shape=(19, 3), name=`neuron_branch.off`)>,\n",
       "  <trimesh.Trimesh(vertices.shape=(13, 3), faces.shape=(19, 3), name=`neuron_branch.off`)>,\n",
       "  <trimesh.Trimesh(vertices.shape=(8, 3), faces.shape=(9, 3), name=`neuron_branch.off`)>,\n",
       "  <trimesh.Trimesh(vertices.shape=(7, 3), faces.shape=(8, 3), name=`neuron_branch.off`)>,\n",
       "  <trimesh.Trimesh(vertices.shape=(5, 3), faces.shape=(3, 3), name=`neuron_branch.off`)>,\n",
       "  <trimesh.Trimesh(vertices.shape=(4, 3), faces.shape=(2, 3), name=`neuron_branch.off`)>,\n",
       "  <trimesh.Trimesh(vertices.shape=(3, 3), faces.shape=(1, 3), name=`neuron_branch.off`)>,\n",
       "  <trimesh.Trimesh(vertices.shape=(3, 3), faces.shape=(1, 3), name=`neuron_branch.off`)>,\n",
       "  <trimesh.Trimesh(vertices.shape=(3, 3), faces.shape=(1, 3), name=`neuron_branch.off`)>,\n",
       "  <trimesh.Trimesh(vertices.shape=(3, 3), faces.shape=(1, 3), name=`neuron_branch.off`)>,\n",
       "  <trimesh.Trimesh(vertices.shape=(3, 3), faces.shape=(1, 3), name=`neuron_branch.off`)>,\n",
       "  <trimesh.Trimesh(vertices.shape=(3, 3), faces.shape=(1, 3), name=`neuron_branch.off`)>],\n",
       " array([0.143344  , 0.178859  , 0.158099  , 0.1818045 , 0.114317  ,\n",
       "        0.109908  , 0.0944142 , 0.0749858 , 0.0815454 , 0.0136962 ,\n",
       "        0.0262403 , 0.0347896 , 0.0153243 , 0.0491689 , 0.01989845,\n",
       "        0.0192365 , 0.02667805, 1.        , 0.161296  , 0.1098    ,\n",
       "        0.        , 0.        , 0.        ]))"
      ]
     },
     "execution_count": 21,
     "metadata": {},
     "output_type": "execute_result"
    }
   ],
   "source": [
    "clusters = 5\n",
    "smoothness = 0.08\n",
    "\n",
    "tu.mesh_segmentation(\n",
    "    branch_mesh,\n",
    "    plot_segmentation=True,\n",
    "    clusters=clusters,\n",
    "    smoothness=smoothness,\n",
    ")"
   ]
  },
  {
   "cell_type": "markdown",
   "id": "01f870cf",
   "metadata": {},
   "source": [
    "## Skeletonization"
   ]
  },
  {
   "cell_type": "code",
   "execution_count": 22,
   "id": "831156e7",
   "metadata": {},
   "outputs": [
    {
     "name": "stdout",
     "output_type": "stream",
     "text": [
      "xvfb-run -n 4856 -s \"-screen 0 800x600x24\" meshlabserver $@  -i /neurd_packages/mesh_tools/Applications/Tutorials/temp/mesh_523.off -o /neurd_packages/mesh_tools/Applications/Tutorials/temp/mesh_523_poisson.off -s /neurd_packages/mesh_tools/Applications/Tutorials/temp/poisson_268088.mls\n",
      "removed temporary input file: /neurd_packages/mesh_tools/Applications/Tutorials/temp/mesh_523.off\n",
      "removed temporary output file: /neurd_packages/mesh_tools/Applications/Tutorials/temp/mesh_523_poisson.off\n",
      "xvfb-run -n 613 -s \"-screen 0 800x600x24\" meshlabserver $@  -i /neurd_packages/mesh_tools/Applications/Tutorials/temp/neuron_67477.off -o /neurd_packages/mesh_tools/Applications/Tutorials/temp/neuron_67477_fill_holes.off -s /neurd_packages/mesh_tools/Applications/Tutorials/temp/fill_holes_922916.mls\n",
      "removed temporary input file: /neurd_packages/mesh_tools/Applications/Tutorials/temp/neuron_67477.off\n",
      "removed temporary output file: /neurd_packages/mesh_tools/Applications/Tutorials/temp/neuron_67477_fill_holes.off\n",
      "/neurd_packages/mesh_tools/Applications/Tutorials/temp/fill_holes_922916.mls is being deleted....\n",
      "Mesh manifold status: True\n",
      "Mesh watertight status: True\n",
      "Manifold status before skeletonization = True\n",
      "Watertight status before skeletonization = True\n",
      "min_edge_length = 75\n"
     ]
    },
    {
     "data": {
      "application/vnd.jupyter.widget-view+json": {
       "model_id": "8bd6633722eb41bc93f0a4fe0d703a98",
       "version_major": 2,
       "version_minor": 0
      },
      "text/plain": [
       "Container(figure=Figure(box_center=[0.5, 0.5, 0.5], box_size=[1.0, 1.0, 1.0], camera=PerspectiveCamera(fov=45.…"
      ]
     },
     "metadata": {},
     "output_type": "display_data"
    }
   ],
   "source": [
    "from mesh_tools import skeleton_utils as sk\n",
    "skeleton = sk.skeleton_cgal(branch_mesh,plot=True)"
   ]
  },
  {
   "cell_type": "code",
   "execution_count": 23,
   "id": "d44d1491",
   "metadata": {},
   "outputs": [
    {
     "data": {
      "application/vnd.jupyter.widget-view+json": {
       "model_id": "9bd1a0bade5d4b948e2a433e45e3a0bd",
       "version_major": 2,
       "version_minor": 0
      },
      "text/plain": [
       "Container(figure=Figure(box_center=[0.5, 0.5, 0.5], box_size=[1.0, 1.0, 1.0], camera=PerspectiveCamera(fov=45.…"
      ]
     },
     "metadata": {},
     "output_type": "display_data"
    }
   ],
   "source": [
    "ipvu.plot_objects(branch_mesh,skeleton)"
   ]
  },
  {
   "cell_type": "markdown",
   "id": "6cbc4cd2",
   "metadata": {},
   "source": [
    "## Segmentation and Skeletonization (simple mesh)"
   ]
  },
  {
   "cell_type": "code",
   "execution_count": 24,
   "id": "91b37ce9",
   "metadata": {},
   "outputs": [
    {
     "name": "stdout",
     "output_type": "stream",
     "text": [
      "\n",
      "    Note: the default parameters for this skeletonization and \n",
      "    segmentaiton are reverted to the original \n",
      "    cgal default parameters so that smaller \n",
      "    meshes will have a good skeletonization and segmentaiton\n",
      "    \n",
      "    \n",
      "    tu.skeleton_and_mesh_segmentation(\n",
      "        filepath = \"./elephant.off\",\n",
      "        plot_segmentation = True,\n",
      "    )\n",
      "    \n"
     ]
    }
   ],
   "source": [
    "print(tu.skeleton_and_mesh_segmentation.__doc__)"
   ]
  },
  {
   "cell_type": "code",
   "execution_count": 25,
   "id": "32b1fb9e",
   "metadata": {
    "scrolled": false
   },
   "outputs": [
    {
     "name": "stdout",
     "output_type": "stream",
     "text": [
      "Manifold status before skeletonization = True\n",
      "Watertight status before skeletonization = True\n",
      "min_edge_length = 0\n"
     ]
    },
    {
     "data": {
      "application/vnd.jupyter.widget-view+json": {
       "model_id": "5ef4a3ef72c147e1bcbc9a085044e505",
       "version_major": 2,
       "version_minor": 0
      },
      "text/plain": [
       "Container(figure=Figure(box_center=[0.5, 0.5, 0.5], box_size=[1.0, 1.0, 1.0], camera=PerspectiveCamera(fov=45.…"
      ]
     },
     "metadata": {},
     "output_type": "display_data"
    },
    {
     "data": {
      "application/vnd.jupyter.widget-view+json": {
       "model_id": "7f0d952d51484f268ff8c9c80df17721",
       "version_major": 2,
       "version_minor": 0
      },
      "text/plain": [
       "0it [00:00, ?it/s]"
      ]
     },
     "metadata": {},
     "output_type": "display_data"
    },
    {
     "name": "stdout",
     "output_type": "stream",
     "text": [
      "Gettng rid of 1 nodes INSIDE SKELETON TO GRAPH CONVERSION\n",
      "\n",
      "\n",
      "--- Working on 1-to-1 correspondence-----\n",
      "max(original_labels),len(original_labels) = (17, 18)\n",
      "empty_indices % = 0.24811083123425692\n",
      " conflict_indices % = 0.47786973731558113\n"
     ]
    },
    {
     "data": {
      "application/vnd.jupyter.widget-view+json": {
       "model_id": "bed9efa7074249ef824561379ea53747",
       "version_major": 2,
       "version_minor": 0
      },
      "text/plain": [
       "  0%|          | 0/7 [00:00<?, ?it/s]"
      ]
     },
     "metadata": {},
     "output_type": "display_data"
    },
    {
     "data": {
      "application/vnd.jupyter.widget-view+json": {
       "model_id": "c37da7cfde76458d8e5b6d778003c643",
       "version_major": 2,
       "version_minor": 0
      },
      "text/plain": [
       "  0%|          | 0/18 [00:00<?, ?it/s]"
      ]
     },
     "metadata": {},
     "output_type": "display_data"
    },
    {
     "data": {
      "application/vnd.jupyter.widget-view+json": {
       "model_id": "85360d83668c4a8d8a3c8faaa9b6f989",
       "version_major": 2,
       "version_minor": 0
      },
      "text/plain": [
       "Container(figure=Figure(box_center=[0.5, 0.5, 0.5], box_size=[1.0, 1.0, 1.0], camera=PerspectiveCamera(fov=45.…"
      ]
     },
     "metadata": {},
     "output_type": "display_data"
    }
   ],
   "source": [
    "return_value = tu.skeleton_and_mesh_segmentation(\n",
    "    mesh,\n",
    "    plot_skeleton = True,\n",
    "    plot_segmentation = True\n",
    ")"
   ]
  },
  {
   "cell_type": "markdown",
   "id": "021005a9",
   "metadata": {},
   "source": [
    "# -- pykdtree backend --"
   ]
  },
  {
   "cell_type": "code",
   "execution_count": null,
   "id": "8969244d",
   "metadata": {},
   "outputs": [],
   "source": [
    "\"\"\"\n",
    "Purpose: Will find the closest vertex of a mesh\n",
    "to the origin\n",
    "\"\"\""
   ]
  },
  {
   "cell_type": "code",
   "execution_count": 31,
   "id": "43e920e5",
   "metadata": {},
   "outputs": [],
   "source": [
    "from pykdtree.kdtree import KDTree\n",
    "import numpy as np\n",
    "\n",
    "\n",
    "coordinate = np.array([[0,0,0]])\n",
    "mesh_coords = mesh.vertices\n",
    "\n",
    "kdtree_obj = KDTree(mesh_coords)\n",
    "dist, closest_idx = kdtree_obj.query(coordinate)"
   ]
  },
  {
   "cell_type": "code",
   "execution_count": 35,
   "id": "6ab892c3",
   "metadata": {},
   "outputs": [
    {
     "data": {
      "application/vnd.jupyter.widget-view+json": {
       "model_id": "511e02f6b4e64c3495da8708185211f2",
       "version_major": 2,
       "version_minor": 0
      },
      "text/plain": [
       "HBox(children=(FloatSlider(value=2.0, description='Size', max=3.0), Dropdown(description='Geo', index=3, optio…"
      ]
     },
     "metadata": {},
     "output_type": "display_data"
    },
    {
     "data": {
      "application/vnd.jupyter.widget-view+json": {
       "model_id": "be9e748adfc94361ae74d063518cbf3f",
       "version_major": 2,
       "version_minor": 0
      },
      "text/plain": [
       "HBox(children=(FloatSlider(value=2.0, description='Size', max=3.0), Dropdown(description='Geo', index=3, optio…"
      ]
     },
     "metadata": {},
     "output_type": "display_data"
    },
    {
     "data": {
      "application/vnd.jupyter.widget-view+json": {
       "model_id": "86e21b78d3654c559fb7501f1e0b0520",
       "version_major": 2,
       "version_minor": 0
      },
      "text/plain": [
       "Container(figure=Figure(box_center=[0.5, 0.5, 0.5], box_size=[1.0, 1.0, 1.0], camera=PerspectiveCamera(fov=45.…"
      ]
     },
     "metadata": {},
     "output_type": "display_data"
    }
   ],
   "source": [
    "origin_color = \"blue\"\n",
    "closest_mesh_vertex_color = \"red\"\n",
    "\n",
    "ipvu.plot_objects(\n",
    "    mesh,\n",
    "    scatters=[coordinate,mesh_coords[closest_idx]],\n",
    "    scatters_colors=[origin_color,closest_mesh_vertex_color],\n",
    "    scatter_size=2,\n",
    "    axis_box_off = False,\n",
    "    flip_y=False\n",
    ")"
   ]
  },
  {
   "cell_type": "code",
   "execution_count": null,
   "id": "08967429",
   "metadata": {},
   "outputs": [],
   "source": []
  }
 ],
 "metadata": {
  "kernelspec": {
   "display_name": "Python 3 (ipykernel)",
   "language": "python",
   "name": "python3"
  },
  "language_info": {
   "codemirror_mode": {
    "name": "ipython",
    "version": 3
   },
   "file_extension": ".py",
   "mimetype": "text/x-python",
   "name": "python",
   "nbconvert_exporter": "python",
   "pygments_lexer": "ipython3",
   "version": "3.8.0"
  }
 },
 "nbformat": 4,
 "nbformat_minor": 5
}
